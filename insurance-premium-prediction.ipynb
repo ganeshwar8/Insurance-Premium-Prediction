{
 "cells": [
  {
   "cell_type": "code",
   "execution_count": 1,
   "id": "33d37205",
   "metadata": {},
   "outputs": [],
   "source": [
    "import pandas as pd\n",
    "import numpy as np\n",
    "import matplotlib.pyplot as plt\n",
    "import seaborn as sb\n",
    "from sklearn.preprocessing import OneHotEncoder,StandardScaler\n",
    "from sklearn.model_selection import train_test_split,cross_val_score,GridSearchCV\n",
    "from sklearn.linear_model import LinearRegression,Lasso,Ridge,ElasticNet\n",
    "from sklearn.metrics import r2_score,mean_absolute_error,mean_squared_error\n",
    "from sklearn.compose import ColumnTransformer\n",
    "from sklearn.pipeline import Pipeline\n",
    "from sklearn.preprocessing import PolynomialFeatures\n",
    "from sklearn.ensemble import AdaBoostRegressor,GradientBoostingRegressor,RandomForestRegressor"
   ]
  },
  {
   "cell_type": "code",
   "execution_count": 2,
   "id": "91d00e22",
   "metadata": {},
   "outputs": [],
   "source": [
    "data=pd.read_csv('insurance.csv')"
   ]
  },
  {
   "cell_type": "code",
   "execution_count": 3,
   "id": "dbc29cfb",
   "metadata": {},
   "outputs": [
    {
     "data": {
      "text/html": [
       "<div>\n",
       "<style scoped>\n",
       "    .dataframe tbody tr th:only-of-type {\n",
       "        vertical-align: middle;\n",
       "    }\n",
       "\n",
       "    .dataframe tbody tr th {\n",
       "        vertical-align: top;\n",
       "    }\n",
       "\n",
       "    .dataframe thead th {\n",
       "        text-align: right;\n",
       "    }\n",
       "</style>\n",
       "<table border=\"1\" class=\"dataframe\">\n",
       "  <thead>\n",
       "    <tr style=\"text-align: right;\">\n",
       "      <th></th>\n",
       "      <th>age</th>\n",
       "      <th>sex</th>\n",
       "      <th>bmi</th>\n",
       "      <th>children</th>\n",
       "      <th>smoker</th>\n",
       "      <th>region</th>\n",
       "      <th>expenses</th>\n",
       "    </tr>\n",
       "  </thead>\n",
       "  <tbody>\n",
       "    <tr>\n",
       "      <th>0</th>\n",
       "      <td>19</td>\n",
       "      <td>female</td>\n",
       "      <td>27.9</td>\n",
       "      <td>0</td>\n",
       "      <td>yes</td>\n",
       "      <td>southwest</td>\n",
       "      <td>16884.92</td>\n",
       "    </tr>\n",
       "    <tr>\n",
       "      <th>1</th>\n",
       "      <td>18</td>\n",
       "      <td>male</td>\n",
       "      <td>33.8</td>\n",
       "      <td>1</td>\n",
       "      <td>no</td>\n",
       "      <td>southeast</td>\n",
       "      <td>1725.55</td>\n",
       "    </tr>\n",
       "    <tr>\n",
       "      <th>2</th>\n",
       "      <td>28</td>\n",
       "      <td>male</td>\n",
       "      <td>33.0</td>\n",
       "      <td>3</td>\n",
       "      <td>no</td>\n",
       "      <td>southeast</td>\n",
       "      <td>4449.46</td>\n",
       "    </tr>\n",
       "    <tr>\n",
       "      <th>3</th>\n",
       "      <td>33</td>\n",
       "      <td>male</td>\n",
       "      <td>22.7</td>\n",
       "      <td>0</td>\n",
       "      <td>no</td>\n",
       "      <td>northwest</td>\n",
       "      <td>21984.47</td>\n",
       "    </tr>\n",
       "    <tr>\n",
       "      <th>4</th>\n",
       "      <td>32</td>\n",
       "      <td>male</td>\n",
       "      <td>28.9</td>\n",
       "      <td>0</td>\n",
       "      <td>no</td>\n",
       "      <td>northwest</td>\n",
       "      <td>3866.86</td>\n",
       "    </tr>\n",
       "  </tbody>\n",
       "</table>\n",
       "</div>"
      ],
      "text/plain": [
       "   age     sex   bmi  children smoker     region  expenses\n",
       "0   19  female  27.9         0    yes  southwest  16884.92\n",
       "1   18    male  33.8         1     no  southeast   1725.55\n",
       "2   28    male  33.0         3     no  southeast   4449.46\n",
       "3   33    male  22.7         0     no  northwest  21984.47\n",
       "4   32    male  28.9         0     no  northwest   3866.86"
      ]
     },
     "execution_count": 3,
     "metadata": {},
     "output_type": "execute_result"
    }
   ],
   "source": [
    "data.head()"
   ]
  },
  {
   "cell_type": "code",
   "execution_count": 4,
   "id": "588919f4",
   "metadata": {},
   "outputs": [
    {
     "name": "stdout",
     "output_type": "stream",
     "text": [
      "<class 'pandas.core.frame.DataFrame'>\n",
      "RangeIndex: 1338 entries, 0 to 1337\n",
      "Data columns (total 7 columns):\n",
      " #   Column    Non-Null Count  Dtype  \n",
      "---  ------    --------------  -----  \n",
      " 0   age       1338 non-null   int64  \n",
      " 1   sex       1338 non-null   object \n",
      " 2   bmi       1338 non-null   float64\n",
      " 3   children  1338 non-null   int64  \n",
      " 4   smoker    1338 non-null   object \n",
      " 5   region    1338 non-null   object \n",
      " 6   expenses  1338 non-null   float64\n",
      "dtypes: float64(2), int64(2), object(3)\n",
      "memory usage: 73.3+ KB\n"
     ]
    }
   ],
   "source": [
    "data.info()"
   ]
  },
  {
   "cell_type": "code",
   "execution_count": 5,
   "id": "08468380",
   "metadata": {},
   "outputs": [
    {
     "data": {
      "text/plain": [
       "age         0\n",
       "sex         0\n",
       "bmi         0\n",
       "children    0\n",
       "smoker      0\n",
       "region      0\n",
       "expenses    0\n",
       "dtype: int64"
      ]
     },
     "execution_count": 5,
     "metadata": {},
     "output_type": "execute_result"
    }
   ],
   "source": [
    "data.isnull().sum()"
   ]
  },
  {
   "cell_type": "code",
   "execution_count": 6,
   "id": "834fcb1a",
   "metadata": {},
   "outputs": [
    {
     "name": "stderr",
     "output_type": "stream",
     "text": [
      "C:\\Users\\admin\\anaconda3\\lib\\site-packages\\seaborn\\_decorators.py:36: FutureWarning: Pass the following variable as a keyword arg: x. From version 0.12, the only valid positional argument will be `data`, and passing other arguments without an explicit keyword will result in an error or misinterpretation.\n",
      "  warnings.warn(\n"
     ]
    },
    {
     "data": {
      "image/png": "[encoded data removed]",
      "text/plain": [
       "<Figure size 432x288 with 1 Axes>"
      ]
     },
     "metadata": {
      "needs_background": "light"
     },
     "output_type": "display_data"
    },
    {
     "name": "stderr",
     "output_type": "stream",
     "text": [
      "C:\\Users\\admin\\anaconda3\\lib\\site-packages\\seaborn\\_decorators.py:36: FutureWarning: Pass the following variable as a keyword arg: x. From version 0.12, the only valid positional argument will be `data`, and passing other arguments without an explicit keyword will result in an error or misinterpretation.\n",
      "  warnings.warn(\n"
     ]
    },
    {
     "data": {
      "image/png": "[encoded data removed]",
      "text/plain": [
       "<Figure size 432x288 with 1 Axes>"
      ]
     },
     "metadata": {
      "needs_background": "light"
     },
     "output_type": "display_data"
    },
    {
     "name": "stderr",
     "output_type": "stream",
     "text": [
      "C:\\Users\\admin\\anaconda3\\lib\\site-packages\\seaborn\\_decorators.py:36: FutureWarning: Pass the following variable as a keyword arg: x. From version 0.12, the only valid positional argument will be `data`, and passing other arguments without an explicit keyword will result in an error or misinterpretation.\n",
      "  warnings.warn(\n"
     ]
    },
    {
     "data": {
      "image/png": "[encoded data removed]",
      "text/plain": [
       "<Figure size 432x288 with 1 Axes>"
      ]
     },
     "metadata": {
      "needs_background": "light"
     },
     "output_type": "display_data"
    },
    {
     "name": "stderr",
     "output_type": "stream",
     "text": [
      "C:\\Users\\admin\\anaconda3\\lib\\site-packages\\seaborn\\_decorators.py:36: FutureWarning: Pass the following variable as a keyword arg: x. From version 0.12, the only valid positional argument will be `data`, and passing other arguments without an explicit keyword will result in an error or misinterpretation.\n",
      "  warnings.warn(\n"
     ]
    },
    {
     "data": {
      "image/png": "[encoded data removed]",
      "text/plain": [
       "<Figure size 432x288 with 1 Axes>"
      ]
     },
     "metadata": {
      "needs_background": "light"
     },
     "output_type": "display_data"
    }
   ],
   "source": [
    "for i in data.columns:\n",
    "    if data[i].dtype=='int64'or data[i].dtype=='float64':\n",
    "        sb.boxplot(data[i])\n",
    "        plt.show()"
   ]
  },
  {
   "cell_type": "code",
   "execution_count": 7,
   "id": "471c3adc",
   "metadata": {},
   "outputs": [
    {
     "name": "stderr",
     "output_type": "stream",
     "text": [
      "C:\\Users\\admin\\anaconda3\\lib\\site-packages\\seaborn\\distributions.py:2557: FutureWarning: `distplot` is a deprecated function and will be removed in a future version. Please adapt your code to use either `displot` (a figure-level function with similar flexibility) or `histplot` (an axes-level function for histograms).\n",
      "  warnings.warn(msg, FutureWarning)\n"
     ]
    },
    {
     "data": {
      "image/png": "[encoded data removed]",
      "text/plain": [
       "<Figure size 432x288 with 1 Axes>"
      ]
     },
     "metadata": {
      "needs_background": "light"
     },
     "output_type": "display_data"
    },
    {
     "name": "stderr",
     "output_type": "stream",
     "text": [
      "C:\\Users\\admin\\anaconda3\\lib\\site-packages\\seaborn\\distributions.py:2557: FutureWarning: `distplot` is a deprecated function and will be removed in a future version. Please adapt your code to use either `displot` (a figure-level function with similar flexibility) or `histplot` (an axes-level function for histograms).\n",
      "  warnings.warn(msg, FutureWarning)\n"
     ]
    },
    {
     "data": {
      "image/png": "[encoded data removed]",
      "text/plain": [
       "<Figure size 432x288 with 1 Axes>"
      ]
     },
     "metadata": {
      "needs_background": "light"
     },
     "output_type": "display_data"
    },
    {
     "name": "stderr",
     "output_type": "stream",
     "text": [
      "C:\\Users\\admin\\anaconda3\\lib\\site-packages\\seaborn\\distributions.py:2557: FutureWarning: `distplot` is a deprecated function and will be removed in a future version. Please adapt your code to use either `displot` (a figure-level function with similar flexibility) or `histplot` (an axes-level function for histograms).\n",
      "  warnings.warn(msg, FutureWarning)\n"
     ]
    },
    {
     "data": {
      "image/png": "[encoded data removed]",
      "text/plain": [
       "<Figure size 432x288 with 1 Axes>"
      ]
     },
     "metadata": {
      "needs_background": "light"
     },
     "output_type": "display_data"
    },
    {
     "name": "stderr",
     "output_type": "stream",
     "text": [
      "C:\\Users\\admin\\anaconda3\\lib\\site-packages\\seaborn\\distributions.py:2557: FutureWarning: `distplot` is a deprecated function and will be removed in a future version. Please adapt your code to use either `displot` (a figure-level function with similar flexibility) or `histplot` (an axes-level function for histograms).\n",
      "  warnings.warn(msg, FutureWarning)\n"
     ]
    },
    {
     "data": {
      "image/png": "[encoded data removed]",
      "text/plain": [
       "<Figure size 432x288 with 1 Axes>"
      ]
     },
     "metadata": {
      "needs_background": "light"
     },
     "output_type": "display_data"
    }
   ],
   "source": [
    "for i in data.columns:\n",
    "    if data[i].dtype=='int64'or data[i].dtype=='float64':\n",
    "        sb.distplot(data[i])\n",
    "        plt.show()"
   ]
  },
  {
   "cell_type": "code",
   "execution_count": 8,
   "id": "1a87142d",
   "metadata": {},
   "outputs": [],
   "source": [
    "x=data.drop('expenses',1)\n",
    "y=data['expenses']"
   ]
  },
  {
   "cell_type": "code",
   "execution_count": 9,
   "id": "c1edf301",
   "metadata": {},
   "outputs": [
    {
     "data": {
      "text/html": [
       "<div>\n",
       "<style scoped>\n",
       "    .dataframe tbody tr th:only-of-type {\n",
       "        vertical-align: middle;\n",
       "    }\n",
       "\n",
       "    .dataframe tbody tr th {\n",
       "        vertical-align: top;\n",
       "    }\n",
       "\n",
       "    .dataframe thead th {\n",
       "        text-align: right;\n",
       "    }\n",
       "</style>\n",
       "<table border=\"1\" class=\"dataframe\">\n",
       "  <thead>\n",
       "    <tr style=\"text-align: right;\">\n",
       "      <th></th>\n",
       "      <th>age</th>\n",
       "      <th>sex</th>\n",
       "      <th>bmi</th>\n",
       "      <th>children</th>\n",
       "      <th>smoker</th>\n",
       "      <th>region</th>\n",
       "    </tr>\n",
       "  </thead>\n",
       "  <tbody>\n",
       "    <tr>\n",
       "      <th>0</th>\n",
       "      <td>19</td>\n",
       "      <td>female</td>\n",
       "      <td>27.9</td>\n",
       "      <td>0</td>\n",
       "      <td>yes</td>\n",
       "      <td>southwest</td>\n",
       "    </tr>\n",
       "    <tr>\n",
       "      <th>1</th>\n",
       "      <td>18</td>\n",
       "      <td>male</td>\n",
       "      <td>33.8</td>\n",
       "      <td>1</td>\n",
       "      <td>no</td>\n",
       "      <td>southeast</td>\n",
       "    </tr>\n",
       "    <tr>\n",
       "      <th>2</th>\n",
       "      <td>28</td>\n",
       "      <td>male</td>\n",
       "      <td>33.0</td>\n",
       "      <td>3</td>\n",
       "      <td>no</td>\n",
       "      <td>southeast</td>\n",
       "    </tr>\n",
       "    <tr>\n",
       "      <th>3</th>\n",
       "      <td>33</td>\n",
       "      <td>male</td>\n",
       "      <td>22.7</td>\n",
       "      <td>0</td>\n",
       "      <td>no</td>\n",
       "      <td>northwest</td>\n",
       "    </tr>\n",
       "    <tr>\n",
       "      <th>4</th>\n",
       "      <td>32</td>\n",
       "      <td>male</td>\n",
       "      <td>28.9</td>\n",
       "      <td>0</td>\n",
       "      <td>no</td>\n",
       "      <td>northwest</td>\n",
       "    </tr>\n",
       "    <tr>\n",
       "      <th>...</th>\n",
       "      <td>...</td>\n",
       "      <td>...</td>\n",
       "      <td>...</td>\n",
       "      <td>...</td>\n",
       "      <td>...</td>\n",
       "      <td>...</td>\n",
       "    </tr>\n",
       "    <tr>\n",
       "      <th>1333</th>\n",
       "      <td>50</td>\n",
       "      <td>male</td>\n",
       "      <td>31.0</td>\n",
       "      <td>3</td>\n",
       "      <td>no</td>\n",
       "      <td>northwest</td>\n",
       "    </tr>\n",
       "    <tr>\n",
       "      <th>1334</th>\n",
       "      <td>18</td>\n",
       "      <td>female</td>\n",
       "      <td>31.9</td>\n",
       "      <td>0</td>\n",
       "      <td>no</td>\n",
       "      <td>northeast</td>\n",
       "    </tr>\n",
       "    <tr>\n",
       "      <th>1335</th>\n",
       "      <td>18</td>\n",
       "      <td>female</td>\n",
       "      <td>36.9</td>\n",
       "      <td>0</td>\n",
       "      <td>no</td>\n",
       "      <td>southeast</td>\n",
       "    </tr>\n",
       "    <tr>\n",
       "      <th>1336</th>\n",
       "      <td>21</td>\n",
       "      <td>female</td>\n",
       "      <td>25.8</td>\n",
       "      <td>0</td>\n",
       "      <td>no</td>\n",
       "      <td>southwest</td>\n",
       "    </tr>\n",
       "    <tr>\n",
       "      <th>1337</th>\n",
       "      <td>61</td>\n",
       "      <td>female</td>\n",
       "      <td>29.1</td>\n",
       "      <td>0</td>\n",
       "      <td>yes</td>\n",
       "      <td>northwest</td>\n",
       "    </tr>\n",
       "  </tbody>\n",
       "</table>\n",
       "<p>1338 rows × 6 columns</p>\n",
       "</div>"
      ],
      "text/plain": [
       "      age     sex   bmi  children smoker     region\n",
       "0      19  female  27.9         0    yes  southwest\n",
       "1      18    male  33.8         1     no  southeast\n",
       "2      28    male  33.0         3     no  southeast\n",
       "3      33    male  22.7         0     no  northwest\n",
       "4      32    male  28.9         0     no  northwest\n",
       "...   ...     ...   ...       ...    ...        ...\n",
       "1333   50    male  31.0         3     no  northwest\n",
       "1334   18  female  31.9         0     no  northeast\n",
       "1335   18  female  36.9         0     no  southeast\n",
       "1336   21  female  25.8         0     no  southwest\n",
       "1337   61  female  29.1         0    yes  northwest\n",
       "\n",
       "[1338 rows x 6 columns]"
      ]
     },
     "execution_count": 9,
     "metadata": {},
     "output_type": "execute_result"
    }
   ],
   "source": [
    "x"
   ]
  },
  {
   "cell_type": "code",
   "execution_count": 10,
   "id": "e61aeedc",
   "metadata": {},
   "outputs": [
    {
     "data": {
      "text/plain": [
       "0       16884.92\n",
       "1        1725.55\n",
       "2        4449.46\n",
       "3       21984.47\n",
       "4        3866.86\n",
       "          ...   \n",
       "1333    10600.55\n",
       "1334     2205.98\n",
       "1335     1629.83\n",
       "1336     2007.95\n",
       "1337    29141.36\n",
       "Name: expenses, Length: 1338, dtype: float64"
      ]
     },
     "execution_count": 10,
     "metadata": {},
     "output_type": "execute_result"
    }
   ],
   "source": [
    "y"
   ]
  },
  {
   "cell_type": "code",
   "execution_count": 11,
   "id": "4dd06ba8",
   "metadata": {},
   "outputs": [],
   "source": [
    "xtrain,xtest,ytrain,ytest=train_test_split(x,y,test_size=0.2,random_state=1)"
   ]
  },
  {
   "cell_type": "code",
   "execution_count": 12,
   "id": "63a2926e",
   "metadata": {},
   "outputs": [
    {
     "data": {
      "text/html": [
       "<div>\n",
       "<style scoped>\n",
       "    .dataframe tbody tr th:only-of-type {\n",
       "        vertical-align: middle;\n",
       "    }\n",
       "\n",
       "    .dataframe tbody tr th {\n",
       "        vertical-align: top;\n",
       "    }\n",
       "\n",
       "    .dataframe thead th {\n",
       "        text-align: right;\n",
       "    }\n",
       "</style>\n",
       "<table border=\"1\" class=\"dataframe\">\n",
       "  <thead>\n",
       "    <tr style=\"text-align: right;\">\n",
       "      <th></th>\n",
       "      <th>age</th>\n",
       "      <th>sex</th>\n",
       "      <th>bmi</th>\n",
       "      <th>children</th>\n",
       "      <th>smoker</th>\n",
       "      <th>region</th>\n",
       "    </tr>\n",
       "  </thead>\n",
       "  <tbody>\n",
       "    <tr>\n",
       "      <th>216</th>\n",
       "      <td>53</td>\n",
       "      <td>female</td>\n",
       "      <td>26.6</td>\n",
       "      <td>0</td>\n",
       "      <td>no</td>\n",
       "      <td>northwest</td>\n",
       "    </tr>\n",
       "    <tr>\n",
       "      <th>731</th>\n",
       "      <td>53</td>\n",
       "      <td>male</td>\n",
       "      <td>21.4</td>\n",
       "      <td>1</td>\n",
       "      <td>no</td>\n",
       "      <td>southwest</td>\n",
       "    </tr>\n",
       "    <tr>\n",
       "      <th>866</th>\n",
       "      <td>18</td>\n",
       "      <td>male</td>\n",
       "      <td>37.3</td>\n",
       "      <td>0</td>\n",
       "      <td>no</td>\n",
       "      <td>southeast</td>\n",
       "    </tr>\n",
       "    <tr>\n",
       "      <th>202</th>\n",
       "      <td>60</td>\n",
       "      <td>female</td>\n",
       "      <td>24.0</td>\n",
       "      <td>0</td>\n",
       "      <td>no</td>\n",
       "      <td>northwest</td>\n",
       "    </tr>\n",
       "    <tr>\n",
       "      <th>820</th>\n",
       "      <td>45</td>\n",
       "      <td>male</td>\n",
       "      <td>33.7</td>\n",
       "      <td>1</td>\n",
       "      <td>no</td>\n",
       "      <td>southwest</td>\n",
       "    </tr>\n",
       "    <tr>\n",
       "      <th>...</th>\n",
       "      <td>...</td>\n",
       "      <td>...</td>\n",
       "      <td>...</td>\n",
       "      <td>...</td>\n",
       "      <td>...</td>\n",
       "      <td>...</td>\n",
       "    </tr>\n",
       "    <tr>\n",
       "      <th>715</th>\n",
       "      <td>60</td>\n",
       "      <td>male</td>\n",
       "      <td>28.9</td>\n",
       "      <td>0</td>\n",
       "      <td>no</td>\n",
       "      <td>southwest</td>\n",
       "    </tr>\n",
       "    <tr>\n",
       "      <th>905</th>\n",
       "      <td>26</td>\n",
       "      <td>female</td>\n",
       "      <td>29.4</td>\n",
       "      <td>2</td>\n",
       "      <td>no</td>\n",
       "      <td>northeast</td>\n",
       "    </tr>\n",
       "    <tr>\n",
       "      <th>1096</th>\n",
       "      <td>51</td>\n",
       "      <td>female</td>\n",
       "      <td>35.0</td>\n",
       "      <td>2</td>\n",
       "      <td>yes</td>\n",
       "      <td>northeast</td>\n",
       "    </tr>\n",
       "    <tr>\n",
       "      <th>235</th>\n",
       "      <td>40</td>\n",
       "      <td>female</td>\n",
       "      <td>22.2</td>\n",
       "      <td>2</td>\n",
       "      <td>yes</td>\n",
       "      <td>southeast</td>\n",
       "    </tr>\n",
       "    <tr>\n",
       "      <th>1061</th>\n",
       "      <td>57</td>\n",
       "      <td>male</td>\n",
       "      <td>27.9</td>\n",
       "      <td>1</td>\n",
       "      <td>no</td>\n",
       "      <td>southeast</td>\n",
       "    </tr>\n",
       "  </tbody>\n",
       "</table>\n",
       "<p>1070 rows × 6 columns</p>\n",
       "</div>"
      ],
      "text/plain": [
       "      age     sex   bmi  children smoker     region\n",
       "216    53  female  26.6         0     no  northwest\n",
       "731    53    male  21.4         1     no  southwest\n",
       "866    18    male  37.3         0     no  southeast\n",
       "202    60  female  24.0         0     no  northwest\n",
       "820    45    male  33.7         1     no  southwest\n",
       "...   ...     ...   ...       ...    ...        ...\n",
       "715    60    male  28.9         0     no  southwest\n",
       "905    26  female  29.4         2     no  northeast\n",
       "1096   51  female  35.0         2    yes  northeast\n",
       "235    40  female  22.2         2    yes  southeast\n",
       "1061   57    male  27.9         1     no  southeast\n",
       "\n",
       "[1070 rows x 6 columns]"
      ]
     },
     "execution_count": 12,
     "metadata": {},
     "output_type": "execute_result"
    }
   ],
   "source": [
    "xtrain"
   ]
  },
  {
   "cell_type": "code",
   "execution_count": 13,
   "id": "1b05f59c",
   "metadata": {},
   "outputs": [
    {
     "data": {
      "text/html": [
       "<div>\n",
       "<style scoped>\n",
       "    .dataframe tbody tr th:only-of-type {\n",
       "        vertical-align: middle;\n",
       "    }\n",
       "\n",
       "    .dataframe tbody tr th {\n",
       "        vertical-align: top;\n",
       "    }\n",
       "\n",
       "    .dataframe thead th {\n",
       "        text-align: right;\n",
       "    }\n",
       "</style>\n",
       "<table border=\"1\" class=\"dataframe\">\n",
       "  <thead>\n",
       "    <tr style=\"text-align: right;\">\n",
       "      <th></th>\n",
       "      <th>age</th>\n",
       "      <th>sex</th>\n",
       "      <th>bmi</th>\n",
       "      <th>children</th>\n",
       "      <th>smoker</th>\n",
       "      <th>region</th>\n",
       "    </tr>\n",
       "  </thead>\n",
       "  <tbody>\n",
       "    <tr>\n",
       "      <th>559</th>\n",
       "      <td>19</td>\n",
       "      <td>male</td>\n",
       "      <td>35.5</td>\n",
       "      <td>0</td>\n",
       "      <td>no</td>\n",
       "      <td>northwest</td>\n",
       "    </tr>\n",
       "    <tr>\n",
       "      <th>1087</th>\n",
       "      <td>57</td>\n",
       "      <td>male</td>\n",
       "      <td>31.5</td>\n",
       "      <td>0</td>\n",
       "      <td>no</td>\n",
       "      <td>northwest</td>\n",
       "    </tr>\n",
       "    <tr>\n",
       "      <th>1020</th>\n",
       "      <td>51</td>\n",
       "      <td>male</td>\n",
       "      <td>37.0</td>\n",
       "      <td>0</td>\n",
       "      <td>no</td>\n",
       "      <td>southwest</td>\n",
       "    </tr>\n",
       "    <tr>\n",
       "      <th>460</th>\n",
       "      <td>49</td>\n",
       "      <td>female</td>\n",
       "      <td>36.6</td>\n",
       "      <td>3</td>\n",
       "      <td>no</td>\n",
       "      <td>southeast</td>\n",
       "    </tr>\n",
       "    <tr>\n",
       "      <th>802</th>\n",
       "      <td>21</td>\n",
       "      <td>male</td>\n",
       "      <td>22.3</td>\n",
       "      <td>1</td>\n",
       "      <td>no</td>\n",
       "      <td>southwest</td>\n",
       "    </tr>\n",
       "    <tr>\n",
       "      <th>...</th>\n",
       "      <td>...</td>\n",
       "      <td>...</td>\n",
       "      <td>...</td>\n",
       "      <td>...</td>\n",
       "      <td>...</td>\n",
       "      <td>...</td>\n",
       "    </tr>\n",
       "    <tr>\n",
       "      <th>682</th>\n",
       "      <td>39</td>\n",
       "      <td>male</td>\n",
       "      <td>35.3</td>\n",
       "      <td>2</td>\n",
       "      <td>yes</td>\n",
       "      <td>southwest</td>\n",
       "    </tr>\n",
       "    <tr>\n",
       "      <th>629</th>\n",
       "      <td>44</td>\n",
       "      <td>female</td>\n",
       "      <td>39.0</td>\n",
       "      <td>0</td>\n",
       "      <td>yes</td>\n",
       "      <td>northwest</td>\n",
       "    </tr>\n",
       "    <tr>\n",
       "      <th>893</th>\n",
       "      <td>47</td>\n",
       "      <td>male</td>\n",
       "      <td>38.9</td>\n",
       "      <td>2</td>\n",
       "      <td>yes</td>\n",
       "      <td>southeast</td>\n",
       "    </tr>\n",
       "    <tr>\n",
       "      <th>807</th>\n",
       "      <td>19</td>\n",
       "      <td>female</td>\n",
       "      <td>36.6</td>\n",
       "      <td>0</td>\n",
       "      <td>no</td>\n",
       "      <td>northwest</td>\n",
       "    </tr>\n",
       "    <tr>\n",
       "      <th>1165</th>\n",
       "      <td>35</td>\n",
       "      <td>female</td>\n",
       "      <td>26.1</td>\n",
       "      <td>0</td>\n",
       "      <td>no</td>\n",
       "      <td>northeast</td>\n",
       "    </tr>\n",
       "  </tbody>\n",
       "</table>\n",
       "<p>268 rows × 6 columns</p>\n",
       "</div>"
      ],
      "text/plain": [
       "      age     sex   bmi  children smoker     region\n",
       "559    19    male  35.5         0     no  northwest\n",
       "1087   57    male  31.5         0     no  northwest\n",
       "1020   51    male  37.0         0     no  southwest\n",
       "460    49  female  36.6         3     no  southeast\n",
       "802    21    male  22.3         1     no  southwest\n",
       "...   ...     ...   ...       ...    ...        ...\n",
       "682    39    male  35.3         2    yes  southwest\n",
       "629    44  female  39.0         0    yes  northwest\n",
       "893    47    male  38.9         2    yes  southeast\n",
       "807    19  female  36.6         0     no  northwest\n",
       "1165   35  female  26.1         0     no  northeast\n",
       "\n",
       "[268 rows x 6 columns]"
      ]
     },
     "execution_count": 13,
     "metadata": {},
     "output_type": "execute_result"
    }
   ],
   "source": [
    "xtest"
   ]
  },
  {
   "cell_type": "markdown",
   "id": "c031a165",
   "metadata": {},
   "source": [
    "# Linear regression"
   ]
  },
  {
   "cell_type": "code",
   "execution_count": 14,
   "id": "ff27a3fd",
   "metadata": {},
   "outputs": [
    {
     "name": "stdout",
     "output_type": "stream",
     "text": [
      "lr_r2score 0.7623726868541256\n",
      "lr_mse 35473159.11122701\n",
      "lr_rmse 5955.934780639141\n"
     ]
    }
   ],
   "source": [
    "lr1=ColumnTransformer([\n",
    "    ('onehot',OneHotEncoder(sparse=False,handle_unknown='ignore'),[1,4,5])\n",
    "],remainder='passthrough')\n",
    "lr2=ColumnTransformer([\n",
    "    ('scalar',StandardScaler(),slice(0,11))\n",
    "])\n",
    "lr3=LinearRegression()\n",
    "\n",
    "\n",
    "lr_pipe=Pipeline([\n",
    "    ('lr1',lr1),\n",
    "    ('lr2',lr2),\n",
    "    ('lr3',lr3)\n",
    "])\n",
    "\n",
    "lr_pipe.fit(xtrain,ytrain)\n",
    "\n",
    "lr_ypred=lr_pipe.predict(xtest)\n",
    "\n",
    "print('lr_r2score',r2_score(ytest,lr_ypred))\n",
    "print('lr_mse',mean_squared_error(ytest,lr_ypred))\n",
    "print('lr_rmse',np.sqrt(mean_squared_error(ytest,lr_ypred)))"
   ]
  },
  {
   "cell_type": "code",
   "execution_count": 15,
   "id": "5cfa5642",
   "metadata": {},
   "outputs": [
    {
     "data": {
      "text/plain": [
       "(6077.22994952601, 198.77129644872014, 0.03270754901486378)"
      ]
     },
     "execution_count": 15,
     "metadata": {},
     "output_type": "execute_result"
    }
   ],
   "source": [
    "score=cross_val_score(lr_pipe,x,y,cv=5,scoring='neg_mean_squared_error')\n",
    "score=np.sqrt(abs(score))\n",
    "score \n",
    "avg=np.mean(score)\n",
    "std=np.std(score)\n",
    "coff_var=std/avg\n",
    "res_rmse_lr=avg,std,coff_var\n",
    "res_rmse_lr"
   ]
  },
  {
   "cell_type": "markdown",
   "id": "cf24a2a5",
   "metadata": {},
   "source": [
    "# Ridge "
   ]
  },
  {
   "cell_type": "code",
   "execution_count": 16,
   "id": "4e8d7f9b",
   "metadata": {},
   "outputs": [
    {
     "name": "stdout",
     "output_type": "stream",
     "text": [
      "ridge_r2score 0.7623174825064799\n",
      "ridge_mse 35481400.05197469\n",
      "ridge_rmse 5956.626566436299\n"
     ]
    }
   ],
   "source": [
    "ri1=ColumnTransformer([\n",
    "    ('onehot',OneHotEncoder(sparse=False,handle_unknown='ignore'),[1,4,5])\n",
    "],remainder='passthrough')\n",
    "ri2=ColumnTransformer([\n",
    "    ('scalar',StandardScaler(),slice(0,11))\n",
    "])\n",
    "ri3=Ridge()\n",
    "\n",
    "\n",
    "ri_pipe=Pipeline([\n",
    "    ('ri1',ri1),\n",
    "    ('ri2',ri2),\n",
    "    ('ri3',ri3)\n",
    "])\n",
    "\n",
    "ri_pipe.fit(xtrain,ytrain)\n",
    "\n",
    "ri_ypred=ri_pipe.predict(xtest)\n",
    "\n",
    "print('ridge_r2score',r2_score(ytest,ri_ypred))\n",
    "print('ridge_mse',mean_squared_error(ytest,ri_ypred))\n",
    "print('ridge_rmse',np.sqrt(mean_squared_error(ytest,ri_ypred)))"
   ]
  },
  {
   "cell_type": "code",
   "execution_count": 17,
   "id": "cb82b564",
   "metadata": {},
   "outputs": [
    {
     "data": {
      "text/plain": [
       "({'ri3__alpha': 10}, 0.7469113742587039)"
      ]
     },
     "execution_count": 17,
     "metadata": {},
     "output_type": "execute_result"
    }
   ],
   "source": [
    "param={'ri3__alpha':[0.00001,0.0001,0.001,0.01,0.1,0.2,0.5,0.8,1,2,5,10,20,30,50,100]}\n",
    "\n",
    "\n",
    "grid=GridSearchCV(ri_pipe,param_grid=param,scoring='r2',cv=5)\n",
    "\n",
    "mod_grid=grid.fit(x,y)\n",
    "\n",
    "mod_grid.best_params_,mod_grid.best_score_"
   ]
  },
  {
   "cell_type": "code",
   "execution_count": 18,
   "id": "aed84f83",
   "metadata": {},
   "outputs": [
    {
     "name": "stdout",
     "output_type": "stream",
     "text": [
      "ridge_r2score 0.7620945223623361\n",
      "ridge_mse 35514683.68660393\n",
      "ridge_rmse 5959.419744119718\n"
     ]
    }
   ],
   "source": [
    "ri1=ColumnTransformer([\n",
    "    ('onehot',OneHotEncoder(sparse=False,handle_unknown='ignore'),[1,4,5])\n",
    "],remainder='passthrough')\n",
    "ri2=ColumnTransformer([\n",
    "    ('scalar',StandardScaler(),slice(0,11))\n",
    "])\n",
    "ri3=Ridge(alpha=10)\n",
    "\n",
    "\n",
    "ri_pipe=Pipeline([\n",
    "    ('ri1',ri1),\n",
    "    ('ri2',ri2),\n",
    "    ('ri3',ri3)\n",
    "])\n",
    "\n",
    "ri_pipe.fit(xtrain,ytrain)\n",
    "\n",
    "ri_ypred=ri_pipe.predict(xtest)\n",
    "\n",
    "print('ridge_r2score',r2_score(ytest,ri_ypred))\n",
    "print('ridge_mse',mean_squared_error(ytest,ri_ypred))\n",
    "print('ridge_rmse',np.sqrt(mean_squared_error(ytest,ri_ypred)))"
   ]
  },
  {
   "cell_type": "code",
   "execution_count": 19,
   "id": "4c32ad12",
   "metadata": {},
   "outputs": [
    {
     "data": {
      "text/plain": [
       "(6072.231443807641, 192.97247393663847, 0.031779499138398046)"
      ]
     },
     "execution_count": 19,
     "metadata": {},
     "output_type": "execute_result"
    }
   ],
   "source": [
    "score=cross_val_score(ri_pipe,x,y,cv=5,scoring='neg_mean_squared_error')\n",
    "score=np.sqrt(abs(score))\n",
    "score \n",
    "avg=np.mean(score)\n",
    "std=np.std(score)\n",
    "coff_var=std/avg\n",
    "res_rmse_ridge=avg,std,coff_var\n",
    "res_rmse_ridge"
   ]
  },
  {
   "cell_type": "markdown",
   "id": "0441707f",
   "metadata": {},
   "source": [
    "# lasso"
   ]
  },
  {
   "cell_type": "code",
   "execution_count": 19,
   "id": "897cdb1c",
   "metadata": {},
   "outputs": [
    {
     "name": "stdout",
     "output_type": "stream",
     "text": [
      "lasso_r2score 0.7623269482848388\n",
      "lasso_mse 35479986.994454525\n",
      "lasso_rmse 5956.507953025373\n"
     ]
    }
   ],
   "source": [
    "la1=ColumnTransformer([\n",
    "    ('onehot',OneHotEncoder(sparse=False,handle_unknown='ignore'),[1,4,5])\n",
    "],remainder='passthrough')\n",
    "la2=ColumnTransformer([\n",
    "    ('scalar',StandardScaler(),slice(0,11))\n",
    "])\n",
    "la3=Lasso()\n",
    "\n",
    "\n",
    "la_pipe=Pipeline([\n",
    "    ('la1',la1),\n",
    "    ('la2',la2),\n",
    "    ('la3',la3)\n",
    "])\n",
    "\n",
    "la_pipe.fit(xtrain,ytrain)\n",
    "\n",
    "la_ypred=la_pipe.predict(xtest)\n",
    "\n",
    "print('lasso_r2score',r2_score(ytest,la_ypred))\n",
    "print('lasso_mse',mean_squared_error(ytest,la_ypred))\n",
    "print('lasso_rmse',np.sqrt(mean_squared_error(ytest,la_ypred)))"
   ]
  },
  {
   "cell_type": "code",
   "execution_count": 21,
   "id": "96d05d73",
   "metadata": {},
   "outputs": [
    {
     "name": "stderr",
     "output_type": "stream",
     "text": [
      "C:\\Users\\admin\\anaconda3\\lib\\site-packages\\sklearn\\linear_model\\_coordinate_descent.py:647: ConvergenceWarning: Objective did not converge. You might want to increase the number of iterations, check the scale of the features or consider increasing regularisation. Duality gap: 1.200e+09, tolerance: 1.612e+07\n",
      "  model = cd_fast.enet_coordinate_descent(\n",
      "C:\\Users\\admin\\anaconda3\\lib\\site-packages\\sklearn\\linear_model\\_coordinate_descent.py:647: ConvergenceWarning: Objective did not converge. You might want to increase the number of iterations, check the scale of the features or consider increasing regularisation. Duality gap: 1.195e+09, tolerance: 1.564e+07\n",
      "  model = cd_fast.enet_coordinate_descent(\n",
      "C:\\Users\\admin\\anaconda3\\lib\\site-packages\\sklearn\\linear_model\\_coordinate_descent.py:647: ConvergenceWarning: Objective did not converge. You might want to increase the number of iterations, check the scale of the features or consider increasing regularisation. Duality gap: 1.200e+09, tolerance: 1.612e+07\n",
      "  model = cd_fast.enet_coordinate_descent(\n",
      "C:\\Users\\admin\\anaconda3\\lib\\site-packages\\sklearn\\linear_model\\_coordinate_descent.py:647: ConvergenceWarning: Objective did not converge. You might want to increase the number of iterations, check the scale of the features or consider increasing regularisation. Duality gap: 1.195e+09, tolerance: 1.564e+07\n",
      "  model = cd_fast.enet_coordinate_descent(\n",
      "C:\\Users\\admin\\anaconda3\\lib\\site-packages\\sklearn\\linear_model\\_coordinate_descent.py:647: ConvergenceWarning: Objective did not converge. You might want to increase the number of iterations, check the scale of the features or consider increasing regularisation. Duality gap: 1.200e+09, tolerance: 1.612e+07\n",
      "  model = cd_fast.enet_coordinate_descent(\n",
      "C:\\Users\\admin\\anaconda3\\lib\\site-packages\\sklearn\\linear_model\\_coordinate_descent.py:647: ConvergenceWarning: Objective did not converge. You might want to increase the number of iterations, check the scale of the features or consider increasing regularisation. Duality gap: 1.195e+09, tolerance: 1.564e+07\n",
      "  model = cd_fast.enet_coordinate_descent(\n",
      "C:\\Users\\admin\\anaconda3\\lib\\site-packages\\sklearn\\linear_model\\_coordinate_descent.py:647: ConvergenceWarning: Objective did not converge. You might want to increase the number of iterations, check the scale of the features or consider increasing regularisation. Duality gap: 1.195e+09, tolerance: 1.564e+07\n",
      "  model = cd_fast.enet_coordinate_descent(\n"
     ]
    },
    {
     "name": "stdout",
     "output_type": "stream",
     "text": [
      "best_param {'la3__alpha': 50}\n",
      "best_score 0.747005490365243\n"
     ]
    }
   ],
   "source": [
    "param={'la3__alpha':[0.00001,0.0001,0.001,0.01,0.1,0.2,0.5,0.8,1,2,5,10,20,30,50,100]}\n",
    "\n",
    "grid=GridSearchCV(la_pipe,param_grid=param,cv=5,scoring='r2')\n",
    "mod_las=grid.fit(x,y)\n",
    "print('best_param',mod_las.best_params_)\n",
    "print('best_score',mod_las.best_score_)"
   ]
  },
  {
   "cell_type": "code",
   "execution_count": 20,
   "id": "be6c5cce",
   "metadata": {},
   "outputs": [
    {
     "name": "stdout",
     "output_type": "stream",
     "text": [
      "lasso_r2score 0.7615283146151453\n",
      "lasso_mse 35599207.54558382\n",
      "lasso_rmse 5966.507147870002\n"
     ]
    }
   ],
   "source": [
    "la1=ColumnTransformer([\n",
    "    ('onehot',OneHotEncoder(sparse=False,handle_unknown='ignore'),[1,4,5])\n",
    "],remainder='passthrough')\n",
    "la2=ColumnTransformer([\n",
    "    ('scalar',StandardScaler(),slice(0,11))\n",
    "])\n",
    "la3=Lasso(alpha=50)\n",
    "\n",
    "\n",
    "la_pipe=Pipeline([\n",
    "    ('la1',la1),\n",
    "    ('la2',la2),\n",
    "    ('la3',la3)\n",
    "])\n",
    "\n",
    "la_pipe.fit(xtrain,ytrain)\n",
    "\n",
    "la_ypred=la_pipe.predict(xtest)\n",
    "\n",
    "print('lasso_r2score',r2_score(ytest,la_ypred))\n",
    "print('lasso_mse',mean_squared_error(ytest,la_ypred))\n",
    "print('lasso_rmse',np.sqrt(mean_squared_error(ytest,la_ypred)))"
   ]
  },
  {
   "cell_type": "markdown",
   "id": "4955cfe3",
   "metadata": {},
   "source": [
    "# Adaboost regressor"
   ]
  },
  {
   "cell_type": "code",
   "execution_count": 21,
   "id": "d03aaef7",
   "metadata": {},
   "outputs": [
    {
     "name": "stdout",
     "output_type": "stream",
     "text": [
      "ada_regressor_r2score 0.8082014233927195\n",
      "ada_regressor_mse 28631815.65799331\n",
      "ada_regressor_rmse 5350.87055141435\n"
     ]
    }
   ],
   "source": [
    "ad1=ColumnTransformer([\n",
    "    ('onehot',OneHotEncoder(sparse=False,handle_unknown='ignore'),[1,4,5])\n",
    "],remainder='passthrough')\n",
    "ad2=ColumnTransformer([\n",
    "    ('scalar',StandardScaler(),slice(0,11))\n",
    "])\n",
    "ad3=AdaBoostRegressor()\n",
    "\n",
    "\n",
    "ad_pipe=Pipeline([\n",
    "    ('ad1',ad1),\n",
    "    ('ad2',ad2),\n",
    "    ('ad3',ad3)\n",
    "])\n",
    "\n",
    "ad_pipe.fit(xtrain,ytrain)\n",
    "\n",
    "ad_ypred=ad_pipe.predict(xtest)\n",
    "\n",
    "print('ada_regressor_r2score',r2_score(ytest,ad_ypred))\n",
    "print('ada_regressor_mse',mean_squared_error(ytest,ad_ypred))\n",
    "print('ada_regressor_rmse',np.sqrt(mean_squared_error(ytest,ad_ypred)))"
   ]
  },
  {
   "cell_type": "code",
   "execution_count": 24,
   "id": "40e10cc5",
   "metadata": {},
   "outputs": [
    {
     "name": "stdout",
     "output_type": "stream",
     "text": [
      "best_param {'ad3__learning_rate': 0.001, 'ad3__n_estimators': 500, 'ad3__random_state': 10}\n",
      "best_score 0.8494648148395555\n"
     ]
    }
   ],
   "source": [
    "param={'ad3__n_estimators':[500,1000,2000],'ad3__learning_rate':[0.001,0.01,.1],'ad3__random_state':[1,5,10,15,20]}\n",
    "search=GridSearchCV(ad_pipe,param_grid=param,cv=5,scoring='r2')\n",
    "mod_ada=search.fit(x,y)\n",
    "print('best_param',mod_ada.best_params_)\n",
    "print('best_score',mod_ada.best_score_)"
   ]
  },
  {
   "cell_type": "code",
   "execution_count": 22,
   "id": "41527955",
   "metadata": {},
   "outputs": [
    {
     "name": "stdout",
     "output_type": "stream",
     "text": [
      "ada_regressor_r2score 0.8677795302360451\n",
      "ada_regressor_mse 19737957.306358505\n",
      "ada_regressor_rmse 4442.742093162567\n"
     ]
    }
   ],
   "source": [
    "ad1=ColumnTransformer([\n",
    "    ('onehot',OneHotEncoder(sparse=False,handle_unknown='ignore'),[1,4,5])\n",
    "],remainder='passthrough')\n",
    "ad2=ColumnTransformer([\n",
    "    ('scalar',StandardScaler(),slice(0,11))\n",
    "])\n",
    "ad3=AdaBoostRegressor(learning_rate=0.001,n_estimators=500,random_state=10)\n",
    "\n",
    "\n",
    "ad_pipe=Pipeline([\n",
    "    ('ad1',ad1),\n",
    "    ('ad2',ad2),\n",
    "    ('ad3',ad3)\n",
    "])\n",
    "\n",
    "ad_pipe.fit(xtrain,ytrain)\n",
    "\n",
    "ad_ypred=ad_pipe.predict(xtest)\n",
    "\n",
    "print('ada_regressor_r2score',r2_score(ytest,ad_ypred))\n",
    "print('ada_regressor_mse',mean_squared_error(ytest,ad_ypred))\n",
    "print('ada_regressor_rmse',np.sqrt(mean_squared_error(ytest,ad_ypred)))"
   ]
  },
  {
   "cell_type": "markdown",
   "id": "1bbdaee8",
   "metadata": {},
   "source": [
    "# gradientboost regressor"
   ]
  },
  {
   "cell_type": "code",
   "execution_count": 23,
   "id": "6afac6da",
   "metadata": {},
   "outputs": [
    {
     "name": "stdout",
     "output_type": "stream",
     "text": [
      "ada_regressor_r2score 0.8798967514378659\n",
      "ada_regressor_mse 17929090.682452124\n",
      "ada_regressor_rmse 4234.275697501536\n"
     ]
    }
   ],
   "source": [
    "gb1=ColumnTransformer([\n",
    "    ('onehot',OneHotEncoder(sparse=False,handle_unknown='ignore'),[1,4,5])\n",
    "],remainder='passthrough')\n",
    "gb2=ColumnTransformer([\n",
    "    ('scalar',StandardScaler(),slice(0,11))\n",
    "])\n",
    "gb3=GradientBoostingRegressor(learning_rate=0.01,max_depth=2,n_estimators=1000,random_state=10,subsample=0.75)\n",
    "\n",
    "\n",
    "gb_pipe=Pipeline([\n",
    "    ('gb1',gb1),\n",
    "    ('gb2',gb2),\n",
    "    ('gb3',gb3)\n",
    "])\n",
    "\n",
    "gb_pipe.fit(xtrain,ytrain)\n",
    "\n",
    "gb_ypred=gb_pipe.predict(xtest)\n",
    "\n",
    "print('ada_regressor_r2score',r2_score(ytest,gb_ypred))\n",
    "print('ada_regressor_mse',mean_squared_error(ytest,gb_ypred))\n",
    "print('ada_regressor_rmse',np.sqrt(mean_squared_error(ytest,gb_ypred)))"
   ]
  },
  {
   "cell_type": "code",
   "execution_count": 27,
   "id": "feebcd55",
   "metadata": {},
   "outputs": [
    {
     "name": "stdout",
     "output_type": "stream",
     "text": [
      "best_param {'gb3__learning_rate': 0.01, 'gb3__max_depth': 2, 'gb3__n_estimators': 1000, 'gb3__random_state': 10, 'gb3__subsample': 0.75}\n",
      "best_score 0.8605964873662287\n"
     ]
    }
   ],
   "source": [
    "gb_param={'gb3__n_estimators':[100,250,500,1000,2000],'gb3__learning_rate':[0.001,0.01,0.1,0.2,0.3,0.7,0.8],\n",
    "          'gb3__max_depth':[1,2,4],'gb3__subsample':[0.5,0.75,1],'gb3__random_state':[1,5,10,20,45,25]}\n",
    "search=GridSearchCV(gb_pipe,param_grid=gb_param,cv=5,scoring='r2')\n",
    "mod_gb=search.fit(x,y)\n",
    "print('best_param',mod_gb.best_params_)\n",
    "print('best_score',mod_gb.best_score_)"
   ]
  },
  {
   "cell_type": "markdown",
   "id": "4a6c138a",
   "metadata": {},
   "source": [
    "# Random Forest"
   ]
  },
  {
   "cell_type": "code",
   "execution_count": 24,
   "id": "bf67ef7e",
   "metadata": {},
   "outputs": [
    {
     "name": "stdout",
     "output_type": "stream",
     "text": [
      "ada_regressor_r2score 0.8522538491497651\n",
      "ada_regressor_mse 22055641.027950257\n",
      "ada_regressor_rmse 4696.3433677649955\n"
     ]
    }
   ],
   "source": [
    "ra1=ColumnTransformer([\n",
    "    ('onehot',OneHotEncoder(sparse=False,handle_unknown='ignore'),[1,4,5])\n",
    "],remainder='passthrough')\n",
    "\n",
    "ra2=ColumnTransformer([\n",
    "    ('scaling',StandardScaler(),slice(0,11))\n",
    "])\n",
    "\n",
    "ra3=RandomForestRegressor()\n",
    "\n",
    "ra_pipe=Pipeline([\n",
    "    ('ra1',ra1),\n",
    "    ('ra2',ra2),\n",
    "    ('ra3',ra3)\n",
    "])\n",
    "\n",
    "\n",
    "ra_pipe.fit(xtrain,ytrain)\n",
    "\n",
    "ra_ypred=ra_pipe.predict(xtest)\n",
    "\n",
    "print('ada_regressor_r2score',r2_score(ytest,ra_ypred))\n",
    "print('ada_regressor_mse',mean_squared_error(ytest,ra_ypred))\n",
    "print('ada_regressor_rmse',np.sqrt(mean_squared_error(ytest,ra_ypred)))"
   ]
  },
  {
   "cell_type": "code",
   "execution_count": 30,
   "id": "ff61bb7f",
   "metadata": {},
   "outputs": [
    {
     "name": "stdout",
     "output_type": "stream",
     "text": [
      "best_param {'ra3__criterion': 'squared_error', 'ra3__max_depth': 9, 'ra3__max_features': 'sqrt', 'ra3__min_samples_leaf': 3, 'ra3__n_estimators': 11}\n",
      "best_score 0.8443775741161768\n"
     ]
    }
   ],
   "source": [
    "ra_param={'ra3__n_estimators':[3,5,7,9,11],'ra3__criterion':['squared_error','absolute_error','poisson'],\n",
    "       'ra3__max_depth':[2,3,4,5,6,7,8,9],'ra3__max_features':['sqrt','log2'],'ra3__min_samples_leaf':[1,2,3,4,5,6]}\n",
    "\n",
    "search=GridSearchCV(ra_pipe,param_grid=ra_param,cv=5,scoring='r2')\n",
    "mod_ra=search.fit(x,y)\n",
    "print('best_param',mod_ra.best_params_)\n",
    "print('best_score',mod_ra.best_score_)"
   ]
  },
  {
   "cell_type": "markdown",
   "id": "d13f7d6b",
   "metadata": {},
   "source": [
    "# polynomial features"
   ]
  },
  {
   "cell_type": "code",
   "execution_count": 25,
   "id": "883be111",
   "metadata": {},
   "outputs": [
    {
     "name": "stdout",
     "output_type": "stream",
     "text": [
      "poly_ridge r2score 0.858631857661323\n",
      "poly_ridge MSE 21103527.7891646\n",
      "poly_ridge RMSE 4593.85761524719\n"
     ]
    }
   ],
   "source": [
    "py1=ColumnTransformer([\n",
    "    ('one_hot',OneHotEncoder(drop='first',sparse=False,handle_unknown='ignore'),[1,4,5])\n",
    "],remainder='passthrough')\n",
    "\n",
    "py2=ColumnTransformer([\n",
    "    ('scaling',StandardScaler(),slice(0,11))\n",
    "])\n",
    "py3=PolynomialFeatures(degree=2,interaction_only=True)\n",
    "\n",
    "py4=Ridge(alpha=10)\n",
    "\n",
    "ply_pipe=Pipeline([\n",
    "    ('py1',py1),\n",
    "    ('py2',py2),\n",
    "    ('py3',py3),\n",
    "    ('py4',py4)\n",
    "   ])\n",
    "\n",
    "# training the model\n",
    "ply_pipe.fit(xtrain,ytrain)\n",
    "\n",
    "\n",
    "ypred=ply_pipe.predict(xtest)\n",
    "\n",
    "\n",
    "print('poly_ridge r2score',r2_score(ytest,ypred))\n",
    "\n",
    "print('poly_ridge MSE',mean_squared_error(ytest,ypred))\n",
    "\n",
    "print('poly_ridge RMSE',np.sqrt(mean_squared_error(ytest,ypred)))"
   ]
  },
  {
   "cell_type": "code",
   "execution_count": 26,
   "id": "4ac75003",
   "metadata": {},
   "outputs": [
    {
     "name": "stdout",
     "output_type": "stream",
     "text": [
      "poly_ridge r2score 0.858398319445647\n",
      "poly_ridge MSE 21138390.525158834\n",
      "poly_ridge RMSE 4597.650544045168\n"
     ]
    }
   ],
   "source": [
    "py1=ColumnTransformer([\n",
    "    ('one_hot',OneHotEncoder(drop='first',sparse=False,handle_unknown='ignore'),[1,4,5])\n",
    "],remainder='passthrough')\n",
    "\n",
    "py2=ColumnTransformer([\n",
    "    ('scaling',StandardScaler(),slice(0,11))\n",
    "])\n",
    "py3=PolynomialFeatures(degree=2,interaction_only=True)\n",
    "\n",
    "py4=Lasso(alpha=50)\n",
    "\n",
    "ply_pipe=Pipeline([\n",
    "    ('py1',py1),\n",
    "    ('py2',py2),\n",
    "    ('py3',py3),\n",
    "    ('py4',py4)\n",
    "   ])\n",
    "\n",
    "# training the model\n",
    "ply_pipe.fit(xtrain,ytrain)\n",
    "\n",
    "\n",
    "ypred=ply_pipe.predict(xtest)\n",
    "\n",
    "\n",
    "print('poly_ridge r2score',r2_score(ytest,ypred))\n",
    "\n",
    "print('poly_ridge MSE',mean_squared_error(ytest,ypred))\n",
    "\n",
    "print('poly_ridge RMSE',np.sqrt(mean_squared_error(ytest,ypred)))"
   ]
  },
  {
   "cell_type": "code",
   "execution_count": null,
   "id": "fd92368f",
   "metadata": {},
   "outputs": [],
   "source": []
  },
  {
   "cell_type": "code",
   "execution_count": 37,
   "id": "e61a390b",
   "metadata": {},
   "outputs": [],
   "source": [
    "import pickle\n",
    "pickle.dump(gb_pipe,open('model.pkl','wb'))"
   ]
  },
  {
   "cell_type": "code",
   "execution_count": 38,
   "id": "1cd59213",
   "metadata": {},
   "outputs": [],
   "source": [
    "pipe=pickle.load(open('model.pkl','rb'))"
   ]
  },
  {
   "cell_type": "code",
   "execution_count": 39,
   "id": "54c6c267",
   "metadata": {},
   "outputs": [
    {
     "data": {
      "text/plain": [
       "array([[19, 'male', 20.4, 0, 'no', 'northwest']], dtype=object)"
      ]
     },
     "execution_count": 39,
     "metadata": {},
     "output_type": "execute_result"
    }
   ],
   "source": [
    "inp=x.iloc[35,:].values.reshape(1,-1)\n",
    "inp"
   ]
  },
  {
   "cell_type": "code",
   "execution_count": 40,
   "id": "6b7d7d40",
   "metadata": {},
   "outputs": [
    {
     "name": "stderr",
     "output_type": "stream",
     "text": [
      "C:\\Users\\admin\\anaconda3\\lib\\site-packages\\sklearn\\base.py:450: UserWarning: X does not have valid feature names, but OneHotEncoder was fitted with feature names\n",
      "  warnings.warn(\n"
     ]
    },
    {
     "data": {
      "text/plain": [
       "array([2034.26079673])"
      ]
     },
     "execution_count": 40,
     "metadata": {},
     "output_type": "execute_result"
    }
   ],
   "source": [
    "pipe.predict(inp)"
   ]
  },
  {
   "cell_type": "code",
   "execution_count": 36,
   "id": "6f9ba60c",
   "metadata": {},
   "outputs": [
    {
     "data": {
      "text/plain": [
       "array([[18, 'male', 33.8, 1, 'no', 'southeast', 1725.55]], dtype=object)"
      ]
     },
     "execution_count": 36,
     "metadata": {},
     "output_type": "execute_result"
    }
   ],
   "source": [
    "data.iloc[1,:].values.reshape(1,-1)"
   ]
  },
  {
   "cell_type": "code",
   "execution_count": null,
   "id": "467677e2",
   "metadata": {},
   "outputs": [],
   "source": []
  }
 ],
 "metadata": {
  "kernelspec": {
   "display_name": "Python 3",
   "language": "python",
   "name": "python3"
  },
  "language_info": {
   "codemirror_mode": {
    "name": "ipython",
    "version": 3
   },
   "file_extension": ".py",
   "mimetype": "text/x-python",
   "name": "python",
   "nbconvert_exporter": "python",
   "pygments_lexer": "ipython3",
   "version": "3.8.8"
  }
 },
 "nbformat": 4,
 "nbformat_minor": 5
}
